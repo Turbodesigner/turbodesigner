{
 "cells": [
  {
   "attachments": {},
   "cell_type": "markdown",
   "metadata": {},
   "source": [
    "# CAD Generation"
   ]
  },
  {
   "cell_type": "code",
   "execution_count": 1,
   "metadata": {},
   "outputs": [
    {
     "name": "stdout",
     "output_type": "stream",
     "text": [
      "Overwriting auto display for cadquery Workplane and Shape\n"
     ]
    }
   ],
   "source": [
    "from jupyter_cadquery import set_defaults\n",
    "set_defaults(theme=\"dark\")"
   ]
  },
  {
   "cell_type": "code",
   "execution_count": 1,
   "metadata": {},
   "outputs": [
    {
     "name": "stdout",
     "output_type": "stream",
     "text": [
      "Overwriting auto display for cadquery Workplane and Shape\n",
      "100% ⋮————————————————————————————————————————————————————————————⋮ (3/3)  0.32s\n"
     ]
    },
    {
     "data": {
      "application/vnd.jupyter.widget-view+json": {
       "model_id": "8cb3af6f4b1f4f5787000820464e4b10",
       "version_major": 2,
       "version_minor": 0
      },
      "text/plain": [
       "CadViewerWidget(anchor=None, cad_width=800, glass=False, height=600, pinning=False, theme='light', title=None,…"
      ]
     },
     "metadata": {},
     "output_type": "display_data"
    },
    {
     "data": {
      "text/html": [
       "<div></div>"
      ],
      "text/plain": [
       "<IPython.core.display.HTML object>"
      ]
     },
     "metadata": {},
     "output_type": "display_data"
    },
    {
     "data": {
      "text/plain": [
       "<cad_viewer_widget.widget.CadViewer at 0x7f865e658b20>"
      ]
     },
     "execution_count": 1,
     "metadata": {},
     "output_type": "execute_result"
    }
   ],
   "source": [
    "from tests.designs import mark1\n",
    "from turbodesigner.cad.blade import BladeCadModel\n",
    "import plotly.graph_objects as go\n",
    "from jupyter_cadquery import show\n",
    "from cadquery import exporters\n",
    "import numpy as np\n",
    "\n",
    "blade_row = mark1.stages[6].stator.to_export()\n",
    "blade_model = BladeCadModel(blade_row)\n",
    "# blade_profile = blade_model.blade_assembly.objects[\"Blade\"].obj\n",
    "show(blade_model.blade_assembly)\n",
    "# exporters.export(blade_profile, \"blade_profile.stl\")"
   ]
  },
  {
   "attachments": {},
   "cell_type": "markdown",
   "metadata": {},
   "source": [
    "# Shaft Cad"
   ]
  },
  {
   "cell_type": "code",
   "execution_count": 2,
   "metadata": {},
   "outputs": [
    {
     "name": "stdout",
     "output_type": "stream",
     "text": [
      "100% ⋮————————————————————————————————————————————————————————————⋮ (121/121)  2.66s\n"
     ]
    },
    {
     "data": {
      "application/vnd.jupyter.widget-view+json": {
       "model_id": "a4ad9dddef6f433ba9a8503156681fc9",
       "version_major": 2,
       "version_minor": 0
      },
      "text/plain": [
       "CadViewerWidget(anchor=None, cad_width=800, glass=False, height=600, pinning=False, theme='light', title=None,…"
      ]
     },
     "metadata": {},
     "output_type": "display_data"
    },
    {
     "data": {
      "text/html": [
       "<div></div>"
      ],
      "text/plain": [
       "<IPython.core.display.HTML object>"
      ]
     },
     "metadata": {},
     "output_type": "display_data"
    },
    {
     "data": {
      "text/plain": [
       "<cad_viewer_widget.widget.CadViewer at 0x7fddef622f20>"
      ]
     },
     "execution_count": 2,
     "metadata": {},
     "output_type": "execute_result"
    }
   ],
   "source": [
    "from tests.designs import mark1\n",
    "from turbodesigner.cad.shaft import ShaftCadModel, ShaftCadModelSpecification\n",
    "# from jupyter_cadquery.viewer.client import show\n",
    "from jupyter_cadquery import show\n",
    "\n",
    "import numpy as np\n",
    "from cadquery import exporters\n",
    "import cadquery as cq\n",
    "\n",
    "turbomachinery = mark1.to_export()\n",
    "stage = turbomachinery.stages[0]\n",
    "next_stage = turbomachinery.stages[1]\n",
    "shaft_cad_model = ShaftCadModel(\n",
    "    stage, \n",
    "    next_stage,\n",
    "    ShaftCadModelSpecification(\n",
    "        include_attachment=True\n",
    "    )\n",
    ")\n",
    "\n",
    "# shaft_assembly = shaft_cad_model.shaft_assembly(turbomachinery)\n",
    "# show(shaft_assembly)\n",
    "show(shaft_cad_model.shaft_stage_assembly)\n",
    "\n",
    "# sector_angle = 360 / stage.rotor.number_of_blades\n",
    "# sector_cut_profile = (\n",
    "#     cq.Workplane('XZ')\n",
    "#     .transformed(rotate=(0, sector_angle/2, 0))\n",
    "#     .rect(stage.stator.hub_radius, stage.stage_height*2, centered=False)\n",
    "#     .revolve(sector_angle*(stage.rotor.number_of_blades-1), (0, 0, 0), (0, 1, 0))\n",
    "# )\n",
    "\n",
    "# shaft_profile = shaft_cad_model.shaft_stage_assembly.objects[\"Stage Shaft\"].obj\n",
    "# assert shaft_profile is not None and isinstance(shaft_profile, cq.Workplane)\n",
    "# shaft_profile = (\n",
    "#     shaft_profile\n",
    "#     .cut(sector_cut_profile)\n",
    "# )\n",
    "# exporters.export(shaft_profile, \"./shaft_profile.stl\")\n",
    "# show(shaft_profile)\n",
    "\n"
   ]
  },
  {
   "attachments": {},
   "cell_type": "markdown",
   "metadata": {},
   "source": [
    "# Casing"
   ]
  },
  {
   "cell_type": "code",
   "execution_count": 1,
   "metadata": {},
   "outputs": [
    {
     "name": "stdout",
     "output_type": "stream",
     "text": [
      "Overwriting auto display for cadquery Workplane and Shape\n",
      "100% ⋮————————————————————————————————————————————————————————————⋮ (3/3)  0.03s\n"
     ]
    },
    {
     "data": {
      "application/vnd.jupyter.widget-view+json": {
       "model_id": "b4f0f714c9074c6aa71691ea18d19cd6",
       "version_major": 2,
       "version_minor": 0
      },
      "text/plain": [
       "CadViewerWidget(anchor=None, cad_width=800, glass=False, height=600, pinning=False, theme='light', title=None,…"
      ]
     },
     "metadata": {},
     "output_type": "display_data"
    },
    {
     "data": {
      "text/html": [
       "<div></div>"
      ],
      "text/plain": [
       "<IPython.core.display.HTML object>"
      ]
     },
     "metadata": {},
     "output_type": "display_data"
    },
    {
     "data": {
      "text/plain": [
       "<cad_viewer_widget.widget.CadViewer at 0x7f79c7980f10>"
      ]
     },
     "execution_count": 1,
     "metadata": {},
     "output_type": "execute_result"
    }
   ],
   "source": [
    "from tests.designs import mark1\n",
    "from turbodesigner.cad.casing import CasingCadModel\n",
    "from jupyter_cadquery import show\n",
    "from cadquery import exporters\n",
    "\n",
    "# from jupyter_cadquery.viewer.client import show\n",
    "\n",
    "turbomachinery = mark1.to_export()\n",
    "first_stage = turbomachinery.stages[0]\n",
    "previous_stage = turbomachinery.stages[0]\n",
    "stage = turbomachinery.stages[1]\n",
    "\n",
    "casing_model = CasingCadModel(stage, first_stage, previous_stage)\n",
    "# casing_assembly = CasingCadModel.casing_assembly(turbomachinery)\n",
    "# casing_profile = casing_model.casing_stage_assembly.objects[\"Stage Casing\"].obj\n",
    "show(casing_model.casing_stage_assembly)\n",
    "# exporters.export(casing_profile, \"casing_profile.stl\")"
   ]
  }
 ],
 "metadata": {
  "kernelspec": {
   "display_name": "Python 3",
   "language": "python",
   "name": "python3"
  },
  "language_info": {
   "codemirror_mode": {
    "name": "ipython",
    "version": 3
   },
   "file_extension": ".py",
   "mimetype": "text/x-python",
   "name": "python",
   "nbconvert_exporter": "python",
   "pygments_lexer": "ipython3",
   "version": "3.10.8"
  },
  "orig_nbformat": 4,
  "vscode": {
   "interpreter": {
    "hash": "949777d72b0d2535278d3dc13498b2535136f6dfe0678499012e853ee9abcab1"
   }
  }
 },
 "nbformat": 4,
 "nbformat_minor": 2
}
