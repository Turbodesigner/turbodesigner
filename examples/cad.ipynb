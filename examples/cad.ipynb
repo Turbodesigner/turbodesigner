{
 "cells": [
  {
   "attachments": {},
   "cell_type": "markdown",
   "metadata": {},
   "source": [
    "# CAD Generation"
   ]
  },
  {
   "cell_type": "code",
   "execution_count": 1,
   "metadata": {},
   "outputs": [
    {
     "name": "stdout",
     "output_type": "stream",
     "text": [
      "Overwriting auto display for cadquery Workplane and Shape\n"
     ]
    }
   ],
   "source": [
    "from jupyter_cadquery import set_defaults\n",
    "set_defaults(theme=\"dark\")"
   ]
  },
  {
   "cell_type": "code",
   "execution_count": 1,
   "metadata": {},
   "outputs": [
    {
     "name": "stdout",
     "output_type": "stream",
     "text": [
      "Overwriting auto display for cadquery Workplane and Shape\n"
     ]
    },
    {
     "ename": "ValueError",
     "evalue": "M1-0.4-2.0 invalid, must be one of ['M2-0.4-3', 'M2-0.4-4', 'M2-0.4-6', 'M2-0.4-8', 'M3-0.5-6', 'M3-0.5-8', 'M3-0.5-10', 'M4-0.7-8', 'M4-0.7-6', 'M4-0.7-10', 'M5-0.8-6', 'M5-0.8-8', 'M5-0.8-10', 'M6-1-10', 'M6-1-12']",
     "output_type": "error",
     "traceback": [
      "\u001b[0;31m---------------------------------------------------------------------------\u001b[0m",
      "\u001b[0;31mKeyError\u001b[0m                                  Traceback (most recent call last)",
      "File \u001b[0;32m~/.local/lib/python3.10/site-packages/cq_warehouse/fastener.py:560\u001b[0m, in \u001b[0;36mNut.__init__\u001b[0;34m(self, size, fastener_type, hand, simple)\u001b[0m\n\u001b[1;32m    555\u001b[0m \u001b[39mtry\u001b[39;00m:\n\u001b[1;32m    556\u001b[0m     \u001b[39mself\u001b[39m\u001b[39m.\u001b[39mnut_data \u001b[39m=\u001b[39m evaluate_parameter_dict(\n\u001b[1;32m    557\u001b[0m         \u001b[39m# isolate_fastener_type(self.fastener_type, self.fastener_data)[\u001b[39;00m\n\u001b[1;32m    558\u001b[0m         \u001b[39m#     self.thread_size\u001b[39;00m\n\u001b[1;32m    559\u001b[0m         \u001b[39m# ],\u001b[39;00m\n\u001b[0;32m--> 560\u001b[0m         isolate_fastener_type(\u001b[39mself\u001b[39;49m\u001b[39m.\u001b[39;49mfastener_type, \u001b[39mself\u001b[39;49m\u001b[39m.\u001b[39;49mfastener_data)[\n\u001b[1;32m    561\u001b[0m             \u001b[39mself\u001b[39;49m\u001b[39m.\u001b[39;49msize\n\u001b[1;32m    562\u001b[0m         ],\n\u001b[1;32m    563\u001b[0m         is_metric\u001b[39m=\u001b[39m\u001b[39mself\u001b[39m\u001b[39m.\u001b[39mis_metric,\n\u001b[1;32m    564\u001b[0m     )\n\u001b[1;32m    565\u001b[0m \u001b[39mexcept\u001b[39;00m \u001b[39mKeyError\u001b[39;00m \u001b[39mas\u001b[39;00m e:\n",
      "\u001b[0;31mKeyError\u001b[0m: 'M1-0.4-2.0'",
      "\nThe above exception was the direct cause of the following exception:\n",
      "\u001b[0;31mValueError\u001b[0m                                Traceback (most recent call last)",
      "Cell \u001b[0;32mIn[1], line 9\u001b[0m\n\u001b[1;32m      7\u001b[0m blade_row \u001b[39m=\u001b[39m mark1\u001b[39m.\u001b[39mstages[\u001b[39m5\u001b[39m]\u001b[39m.\u001b[39mrotor\u001b[39m.\u001b[39mto_export()\n\u001b[1;32m      8\u001b[0m blade_model \u001b[39m=\u001b[39m BladeCadModel(attachment_screw_indent_height_to_disk_height\u001b[39m=\u001b[39m\u001b[39m0.25\u001b[39m)\n\u001b[0;32m----> 9\u001b[0m blade_profile \u001b[39m=\u001b[39m blade_model\u001b[39m.\u001b[39;49mblade_assembly(blade_row)\n\u001b[1;32m     10\u001b[0m show(blade_profile)\n",
      "File \u001b[0;32m/workspaces/turbodesigner/turbodesigner/cad/blade.py:38\u001b[0m, in \u001b[0;36mBladeCadModel.blade_assembly\u001b[0;34m(self, blade_row, include_attachment)\u001b[0m\n\u001b[1;32m     36\u001b[0m     heatset_diameter \u001b[39m=\u001b[39m \u001b[39mself\u001b[39m\u001b[39m.\u001b[39mfastener_diameter(blade_row)\n\u001b[1;32m     37\u001b[0m     heatset_height \u001b[39m=\u001b[39m  \u001b[39mself\u001b[39m\u001b[39m.\u001b[39mheatset_height(blade_row)\n\u001b[0;32m---> 38\u001b[0m     heatset \u001b[39m=\u001b[39m HeatSetNut(\n\u001b[1;32m     39\u001b[0m         size\u001b[39m=\u001b[39;49m\u001b[39mf\u001b[39;49m\u001b[39m\"\u001b[39;49m\u001b[39mM\u001b[39;49m\u001b[39m{\u001b[39;49;00mheatset_diameter\u001b[39m}\u001b[39;49;00m\u001b[39m-0.4-\u001b[39;49m\u001b[39m{\u001b[39;49;00mheatset_height\u001b[39m}\u001b[39;49;00m\u001b[39m\"\u001b[39;49m,\n\u001b[1;32m     40\u001b[0m         fastener_type\u001b[39m=\u001b[39;49m\u001b[39m\"\u001b[39;49m\u001b[39mHilitchi\u001b[39;49m\u001b[39m\"\u001b[39;49m,\n\u001b[1;32m     41\u001b[0m         simple\u001b[39m=\u001b[39;49m\u001b[39mTrue\u001b[39;49;00m,\n\u001b[1;32m     42\u001b[0m     )\n\u001b[1;32m     44\u001b[0m     blade_profile \u001b[39m=\u001b[39m (\n\u001b[1;32m     45\u001b[0m         ExtendedWorkplane(\u001b[39m\"\u001b[39m\u001b[39mYZ\u001b[39m\u001b[39m\"\u001b[39m)\n\u001b[1;32m     46\u001b[0m         \u001b[39m.\u001b[39mpolyline(blade_row\u001b[39m.\u001b[39mattachment)  \u001b[39m# type: ignore\u001b[39;00m\n\u001b[0;32m   (...)\u001b[0m\n\u001b[1;32m     55\u001b[0m         \u001b[39m.\u001b[39mworkplane()\n\u001b[1;32m     56\u001b[0m     )\n\u001b[1;32m     58\u001b[0m blade_profile \u001b[39m=\u001b[39m (\n\u001b[1;32m     59\u001b[0m     blade_profile\n\u001b[1;32m     60\u001b[0m     \u001b[39m.\u001b[39mpolyline(hub_airfoil \u001b[39m-\u001b[39m airfoil_offset)\n\u001b[1;32m     61\u001b[0m     \u001b[39m.\u001b[39mclose()\n\u001b[1;32m     62\u001b[0m )\n",
      "File \u001b[0;32m~/.local/lib/python3.10/site-packages/cq_warehouse/fastener.py:566\u001b[0m, in \u001b[0;36mNut.__init__\u001b[0;34m(self, size, fastener_type, hand, simple)\u001b[0m\n\u001b[1;32m    556\u001b[0m     \u001b[39mself\u001b[39m\u001b[39m.\u001b[39mnut_data \u001b[39m=\u001b[39m evaluate_parameter_dict(\n\u001b[1;32m    557\u001b[0m         \u001b[39m# isolate_fastener_type(self.fastener_type, self.fastener_data)[\u001b[39;00m\n\u001b[1;32m    558\u001b[0m         \u001b[39m#     self.thread_size\u001b[39;00m\n\u001b[0;32m   (...)\u001b[0m\n\u001b[1;32m    563\u001b[0m         is_metric\u001b[39m=\u001b[39m\u001b[39mself\u001b[39m\u001b[39m.\u001b[39mis_metric,\n\u001b[1;32m    564\u001b[0m     )\n\u001b[1;32m    565\u001b[0m \u001b[39mexcept\u001b[39;00m \u001b[39mKeyError\u001b[39;00m \u001b[39mas\u001b[39;00m e:\n\u001b[0;32m--> 566\u001b[0m     \u001b[39mraise\u001b[39;00m \u001b[39mValueError\u001b[39;00m(\n\u001b[1;32m    567\u001b[0m         \u001b[39mf\u001b[39m\u001b[39m\"\u001b[39m\u001b[39m{\u001b[39;00msize\u001b[39m}\u001b[39;00m\u001b[39m invalid, must be one of \u001b[39m\u001b[39m{\u001b[39;00m\u001b[39mself\u001b[39m\u001b[39m.\u001b[39msizes(\u001b[39mself\u001b[39m\u001b[39m.\u001b[39mfastener_type)\u001b[39m}\u001b[39;00m\u001b[39m\"\u001b[39m\n\u001b[1;32m    568\u001b[0m     ) \u001b[39mfrom\u001b[39;00m \u001b[39me\u001b[39;00m\n\u001b[1;32m    569\u001b[0m \u001b[39mif\u001b[39;00m method_exists(\u001b[39mself\u001b[39m\u001b[39m.\u001b[39m\u001b[39m__class__\u001b[39m, \u001b[39m\"\u001b[39m\u001b[39mcustom_make\u001b[39m\u001b[39m\"\u001b[39m):\n\u001b[1;32m    570\u001b[0m     cq_object \u001b[39m=\u001b[39m \u001b[39mself\u001b[39m\u001b[39m.\u001b[39mcustom_make()\n",
      "\u001b[0;31mValueError\u001b[0m: M1-0.4-2.0 invalid, must be one of ['M2-0.4-3', 'M2-0.4-4', 'M2-0.4-6', 'M2-0.4-8', 'M3-0.5-6', 'M3-0.5-8', 'M3-0.5-10', 'M4-0.7-8', 'M4-0.7-6', 'M4-0.7-10', 'M5-0.8-6', 'M5-0.8-8', 'M5-0.8-10', 'M6-1-10', 'M6-1-12']"
     ]
    }
   ],
   "source": [
    "from tests.designs import mark1\n",
    "from turbodesigner.cad.blade import BladeCadModel\n",
    "import plotly.graph_objects as go\n",
    "from jupyter_cadquery import show\n",
    "import numpy as np\n",
    "\n",
    "blade_row = mark1.stages[5].rotor.to_export()\n",
    "blade_model = BladeCadModel(attachment_screw_indent_height_to_disk_height=0.25)\n",
    "blade_profile = blade_model.blade_assembly(blade_row)\n",
    "show(blade_profile)"
   ]
  },
  {
   "attachments": {},
   "cell_type": "markdown",
   "metadata": {},
   "source": [
    "# Shaft Cad"
   ]
  },
  {
   "cell_type": "code",
   "execution_count": 1,
   "metadata": {},
   "outputs": [
    {
     "name": "stdout",
     "output_type": "stream",
     "text": [
      "Overwriting auto display for cadquery Workplane and Shape\n",
      "100% ⋮————————————————————————————————————————————————————————————⋮ (57/57)  1.81s\n"
     ]
    },
    {
     "data": {
      "application/vnd.jupyter.widget-view+json": {
       "model_id": "4ac97ef403074285ad7b110e581982cd",
       "version_major": 2,
       "version_minor": 0
      },
      "text/plain": [
       "CadViewerWidget(anchor=None, cad_width=800, glass=False, height=600, pinning=False, theme='light', title=None,…"
      ]
     },
     "metadata": {},
     "output_type": "display_data"
    },
    {
     "data": {
      "text/html": [
       "<div></div>"
      ],
      "text/plain": [
       "<IPython.core.display.HTML object>"
      ]
     },
     "metadata": {},
     "output_type": "display_data"
    },
    {
     "data": {
      "text/plain": [
       "<cad_viewer_widget.widget.CadViewer at 0x7fd1129353c0>"
      ]
     },
     "execution_count": 1,
     "metadata": {},
     "output_type": "execute_result"
    }
   ],
   "source": [
    "from tests.designs import mark1\n",
    "from turbodesigner.cad.shaft import ShaftCadModel\n",
    "from jupyter_cadquery import show\n",
    "import numpy as np\n",
    "from cadquery import exporters\n",
    "\n",
    "turbomachinery = mark1.to_export()\n",
    "shaft_model = ShaftCadModel(\n",
    "    transition_to_total_height=0.25,\n",
    "    attachment_screw_indent_length_to_hub_radius=0.25,\n",
    "    attachment_screw_indent_height_to_disk_height=0.25\n",
    ")\n",
    "\n",
    "shaft_stage_assembly = shaft_model.shaft_stage_assembly(turbomachinery.stages[0])\n",
    "# shaft_profile = shaft_model.shaft_assembly(turbomachinery, include_attachment=False)\n",
    "show(shaft_stage_assembly)"
   ]
  },
  {
   "attachments": {},
   "cell_type": "markdown",
   "metadata": {},
   "source": [
    "# Casing"
   ]
  },
  {
   "cell_type": "code",
   "execution_count": 7,
   "metadata": {},
   "outputs": [
    {
     "data": {
      "application/vnd.jupyter.widget-view+json": {
       "model_id": "4ade01526a9c4d47afac3b108ccb03a5",
       "version_major": 2,
       "version_minor": 0
      },
      "text/plain": [
       "CadViewerWidget(anchor=None, cad_width=800, glass=False, height=600, pinning=False, theme='light', title=None,…"
      ]
     },
     "metadata": {},
     "output_type": "display_data"
    },
    {
     "data": {
      "text/html": [
       "<div></div>"
      ],
      "text/plain": [
       "<IPython.core.display.HTML object>"
      ]
     },
     "metadata": {},
     "output_type": "display_data"
    },
    {
     "data": {
      "text/plain": [
       "<cad_viewer_widget.widget.CadViewer at 0x7f015910a8c0>"
      ]
     },
     "execution_count": 7,
     "metadata": {},
     "output_type": "execute_result"
    }
   ],
   "source": [
    "from tests.designs import mark1\n",
    "from turbodesigner.cad.casing import CasingCadModel\n",
    "from jupyter_cadquery import show\n",
    "import numpy as np\n",
    "\n",
    "# first_stage = mark1.stages[0].to_export()\n",
    "# stage = mark1.stages[6].to_export()\n",
    "turbomachinery = mark1.to_export()\n",
    "\n",
    "casing_model = CasingCadModel(\n",
    "    thickness_to_inlet_radius=0.25,\n",
    "    transition_to_total_height=0.25\n",
    ")\n",
    "# casing_profile = casing_model.casing_profile(stage, first_stage)\n",
    "casing_profile = casing_model.casing_assembly(turbomachinery)\n",
    "\n",
    "show(casing_profile)"
   ]
  }
 ],
 "metadata": {
  "kernelspec": {
   "display_name": "Python 3",
   "language": "python",
   "name": "python3"
  },
  "language_info": {
   "codemirror_mode": {
    "name": "ipython",
    "version": 3
   },
   "file_extension": ".py",
   "mimetype": "text/x-python",
   "name": "python",
   "nbconvert_exporter": "python",
   "pygments_lexer": "ipython3",
   "version": "3.10.8"
  },
  "orig_nbformat": 4,
  "vscode": {
   "interpreter": {
    "hash": "949777d72b0d2535278d3dc13498b2535136f6dfe0678499012e853ee9abcab1"
   }
  }
 },
 "nbformat": 4,
 "nbformat_minor": 2
}
