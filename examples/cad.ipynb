{
 "cells": [
  {
   "attachments": {},
   "cell_type": "markdown",
   "metadata": {},
   "source": [
    "# CAD Generation"
   ]
  },
  {
   "cell_type": "code",
   "execution_count": 7,
   "metadata": {},
   "outputs": [],
   "source": [
    "from jupyter_cadquery import set_defaults\n",
    "set_defaults(theme=\"dark\")"
   ]
  },
  {
   "attachments": {},
   "cell_type": "markdown",
   "metadata": {},
   "source": [
    "# Blade CAD"
   ]
  },
  {
   "cell_type": "code",
   "execution_count": 8,
   "metadata": {},
   "outputs": [
    {
     "data": {
      "application/vnd.jupyter.widget-view+json": {
       "model_id": "d5f4f8a1d44a436dbe35770cd8054f76",
       "version_major": 2,
       "version_minor": 0
      },
      "text/plain": [
       "CadViewerWidget(anchor=None, cad_width=800, glass=False, height=600, pinning=False, theme='dark', title=None, …"
      ]
     },
     "metadata": {},
     "output_type": "display_data"
    },
    {
     "data": {
      "text/html": [
       "<div></div>"
      ],
      "text/plain": [
       "<IPython.core.display.HTML object>"
      ]
     },
     "metadata": {},
     "output_type": "display_data"
    },
    {
     "data": {
      "text/plain": [
       "<cad_viewer_widget.widget.CadViewer at 0x7fa66f9f2410>"
      ]
     },
     "execution_count": 8,
     "metadata": {},
     "output_type": "execute_result"
    }
   ],
   "source": [
    "from tests.designs import mark1\n",
    "from turbodesigner.cad.blade import BladeCadModel\n",
    "from jupyter_cadquery import show\n",
    "import numpy as np\n",
    "\n",
    "blade_row = mark1.stages[1].stator.to_export()\n",
    "blade_profile = BladeCadModel.blade_profile(blade_row)\n",
    "show(blade_profile)"
   ]
  },
  {
   "attachments": {},
   "cell_type": "markdown",
   "metadata": {},
   "source": [
    "# Shaft Cad"
   ]
  },
  {
   "cell_type": "code",
   "execution_count": 1,
   "metadata": {},
   "outputs": [
    {
     "ename": "ModuleNotFoundError",
     "evalue": "No module named 'dacite'",
     "output_type": "error",
     "traceback": [
      "\u001b[0;31m---------------------------------------------------------------------------\u001b[0m",
      "\u001b[0;31mModuleNotFoundError\u001b[0m                       Traceback (most recent call last)",
      "Cell \u001b[0;32mIn[1], line 1\u001b[0m\n\u001b[0;32m----> 1\u001b[0m \u001b[39mfrom\u001b[39;00m \u001b[39mtests\u001b[39;00m\u001b[39m.\u001b[39;00m\u001b[39mdesigns\u001b[39;00m \u001b[39mimport\u001b[39;00m mark1\n\u001b[1;32m      2\u001b[0m \u001b[39mfrom\u001b[39;00m \u001b[39mturbodesigner\u001b[39;00m\u001b[39m.\u001b[39;00m\u001b[39mcad\u001b[39;00m\u001b[39m.\u001b[39;00m\u001b[39mshaft\u001b[39;00m \u001b[39mimport\u001b[39;00m ShaftCadModel\n\u001b[1;32m      3\u001b[0m \u001b[39mfrom\u001b[39;00m \u001b[39mjupyter_cadquery\u001b[39;00m \u001b[39mimport\u001b[39;00m show\n",
      "File \u001b[0;32m/workspace/turbodesigner/tests/designs.py:3\u001b[0m\n\u001b[1;32m      1\u001b[0m \u001b[39mimport\u001b[39;00m \u001b[39mos\u001b[39;00m\n\u001b[1;32m      2\u001b[0m \u001b[39mfrom\u001b[39;00m \u001b[39mturbodesigner\u001b[39;00m\u001b[39m.\u001b[39;00m\u001b[39mstage\u001b[39;00m \u001b[39mimport\u001b[39;00m StageBladeProperty\n\u001b[0;32m----> 3\u001b[0m \u001b[39mfrom\u001b[39;00m \u001b[39mturbodesigner\u001b[39;00m\u001b[39m.\u001b[39;00m\u001b[39mturbomachinery\u001b[39;00m \u001b[39mimport\u001b[39;00m Turbomachinery\n\u001b[1;32m      5\u001b[0m TEST_DIR \u001b[39m=\u001b[39m os\u001b[39m.\u001b[39mpath\u001b[39m.\u001b[39mdirname(os\u001b[39m.\u001b[39mpath\u001b[39m.\u001b[39mabspath(\u001b[39m__file__\u001b[39m))\n\u001b[1;32m      6\u001b[0m base_design \u001b[39m=\u001b[39m Turbomachinery\u001b[39m.\u001b[39mfrom_file(\u001b[39mf\u001b[39m\u001b[39m\"\u001b[39m\u001b[39m{\u001b[39;00mTEST_DIR\u001b[39m}\u001b[39;00m\u001b[39m/designs/base_design.json\u001b[39m\u001b[39m\"\u001b[39m)\n",
      "File \u001b[0;32m/workspace/turbodesigner/turbodesigner/turbomachinery.py:7\u001b[0m\n\u001b[1;32m      5\u001b[0m \u001b[39mfrom\u001b[39;00m \u001b[39mturbodesigner\u001b[39;00m\u001b[39m.\u001b[39;00m\u001b[39mflow_station\u001b[39;00m \u001b[39mimport\u001b[39;00m FlowStation\n\u001b[1;32m      6\u001b[0m \u001b[39mfrom\u001b[39;00m \u001b[39mturbodesigner\u001b[39;00m\u001b[39m.\u001b[39;00m\u001b[39mstage\u001b[39;00m \u001b[39mimport\u001b[39;00m Stage, StageBladeProperty, StageExport\n\u001b[0;32m----> 7\u001b[0m \u001b[39mfrom\u001b[39;00m \u001b[39mdacite\u001b[39;00m\u001b[39m.\u001b[39;00m\u001b[39mcore\u001b[39;00m \u001b[39mimport\u001b[39;00m from_dict\n\u001b[1;32m      9\u001b[0m \u001b[39m@dataclass\u001b[39m\n\u001b[1;32m     10\u001b[0m \u001b[39mclass\u001b[39;00m \u001b[39mTurbomachineryExport\u001b[39;00m:\n\u001b[1;32m     11\u001b[0m     stages: \u001b[39mlist\u001b[39m[StageExport]\n",
      "\u001b[0;31mModuleNotFoundError\u001b[0m: No module named 'dacite'"
     ]
    }
   ],
   "source": [
    "from tests.designs import mark1\n",
    "from turbodesigner.cad.shaft import ShaftCadModel\n",
    "from jupyter_cadquery import show\n",
    "import numpy as np\n",
    "\n",
    "turbo = mark1.to_export()\n",
    "shaft_model = ShaftCadModel()\n",
    "shaft_profile = shaft_model.stage_shaft_profile(turbo.stages[0])\n",
    "show(shaft_profile)"
   ]
  },
  {
   "attachments": {},
   "cell_type": "markdown",
   "metadata": {},
   "source": [
    "# Casing"
   ]
  },
  {
   "cell_type": "code",
   "execution_count": 2,
   "metadata": {},
   "outputs": [
    {
     "data": {
      "application/vnd.jupyter.widget-view+json": {
       "model_id": "467bf3f9e7b84dc28431001336a95472",
       "version_major": 2,
       "version_minor": 0
      },
      "text/plain": [
       "CadViewerWidget(anchor=None, cad_width=800, glass=False, height=600, pinning=False, theme='light', title=None,…"
      ]
     },
     "metadata": {},
     "output_type": "display_data"
    },
    {
     "data": {
      "text/html": [
       "<div></div>"
      ],
      "text/plain": [
       "<IPython.core.display.HTML object>"
      ]
     },
     "metadata": {},
     "output_type": "display_data"
    },
    {
     "data": {
      "text/plain": [
       "<cad_viewer_widget.widget.CadViewer at 0x7f8d1db3a770>"
      ]
     },
     "execution_count": 2,
     "metadata": {},
     "output_type": "execute_result"
    }
   ],
   "source": [
    "from tests.designs import mark1\n",
    "from turbodesigner.cad.casing import CasingCadModel\n",
    "from jupyter_cadquery import show\n",
    "import numpy as np\n",
    "\n",
    "first_stage = mark1.stages[0].to_export()\n",
    "next_stage = mark1.stages[1].to_export()\n",
    "\n",
    "casing_model = CasingCadModel(\n",
    "    thickness_to_inlet_radius=0.25,\n",
    "    transition_to_total_height=0.25\n",
    ")\n",
    "casing_profile = casing_model.casing_profile(next_stage, first_stage)\n",
    "show(casing_profile)"
   ]
  }
 ],
 "metadata": {
  "kernelspec": {
   "display_name": "Python 3",
   "language": "python",
   "name": "python3"
  },
  "language_info": {
   "codemirror_mode": {
    "name": "ipython",
    "version": 3
   },
   "file_extension": ".py",
   "mimetype": "text/x-python",
   "name": "python",
   "nbconvert_exporter": "python",
   "pygments_lexer": "ipython3",
   "version": "3.10.8"
  },
  "orig_nbformat": 4,
  "vscode": {
   "interpreter": {
    "hash": "949777d72b0d2535278d3dc13498b2535136f6dfe0678499012e853ee9abcab1"
   }
  }
 },
 "nbformat": 4,
 "nbformat_minor": 2
}
