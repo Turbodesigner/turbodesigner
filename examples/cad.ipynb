{
 "cells": [
  {
   "attachments": {},
   "cell_type": "markdown",
   "metadata": {},
   "source": [
    "# CAD Generation"
   ]
  },
  {
   "cell_type": "code",
   "execution_count": 1,
   "metadata": {},
   "outputs": [
    {
     "name": "stdout",
     "output_type": "stream",
     "text": [
      "Overwriting auto display for cadquery Workplane and Shape\n"
     ]
    }
   ],
   "source": [
    "from jupyter_cadquery import set_defaults\n",
    "set_defaults(theme=\"dark\")"
   ]
  },
  {
   "cell_type": "code",
   "execution_count": 3,
   "metadata": {},
   "outputs": [],
   "source": [
    "from tests.designs import mark1\n",
    "from turbodesigner.cad.blade import BladeCadModel\n",
    "import plotly.graph_objects as go\n",
    "from jupyter_cadquery import show\n",
    "import numpy as np\n",
    "\n",
    "blade_row = mark1.stages[1].rotor.to_export()\n",
    "blade_model = BladeCadModel(blade_row)\n",
    "blade_model.lock_screw\n",
    "show(blade_model.blade_assembly)"
   ]
  },
  {
   "attachments": {},
   "cell_type": "markdown",
   "metadata": {},
   "source": [
    "# Shaft Cad"
   ]
  },
  {
   "cell_type": "code",
   "execution_count": 1,
   "metadata": {},
   "outputs": [
    {
     "name": "stdout",
     "output_type": "stream",
     "text": [
      "Overwriting auto display for cadquery Workplane and Shape\n",
      "100% ⋮————————————————————————————————————————————————————————————⋮ (33/33)  0.72s\n"
     ]
    },
    {
     "data": {
      "application/vnd.jupyter.widget-view+json": {
       "model_id": "97fee8a259344a7f9562a2bf7d164fdb",
       "version_major": 2,
       "version_minor": 0
      },
      "text/plain": [
       "CadViewerWidget(anchor=None, cad_width=800, glass=False, height=600, pinning=False, theme='light', title=None,…"
      ]
     },
     "metadata": {},
     "output_type": "display_data"
    },
    {
     "data": {
      "text/html": [
       "<div></div>"
      ],
      "text/plain": [
       "<IPython.core.display.HTML object>"
      ]
     },
     "metadata": {},
     "output_type": "display_data"
    },
    {
     "data": {
      "text/plain": [
       "<cad_viewer_widget.widget.CadViewer at 0x7f1d34aa45e0>"
      ]
     },
     "execution_count": 1,
     "metadata": {},
     "output_type": "execute_result"
    }
   ],
   "source": [
    "from tests.designs import mark1\n",
    "from turbodesigner.cad.shaft import ShaftCadModel, ShaftCadModelSpecification\n",
    "from jupyter_cadquery import show\n",
    "import numpy as np\n",
    "from cadquery import exporters\n",
    "\n",
    "turbomachinery = mark1.to_export()\n",
    "shaft_model = ShaftCadModel(\n",
    "    turbomachinery.stages[0], \n",
    "    turbomachinery.stages[1],\n",
    "    ShaftCadModelSpecification(\n",
    "        include_attachment=True\n",
    "    )\n",
    ")\n",
    "\n",
    "# shaft_profile = shaft_model.shaft_assembly(turbomachinery, include_attachment=False)\n",
    "show(shaft_model.shaft_stage_assembly)"
   ]
  },
  {
   "attachments": {},
   "cell_type": "markdown",
   "metadata": {},
   "source": [
    "# Casing"
   ]
  },
  {
   "cell_type": "code",
   "execution_count": 7,
   "metadata": {},
   "outputs": [
    {
     "data": {
      "application/vnd.jupyter.widget-view+json": {
       "model_id": "4ade01526a9c4d47afac3b108ccb03a5",
       "version_major": 2,
       "version_minor": 0
      },
      "text/plain": [
       "CadViewerWidget(anchor=None, cad_width=800, glass=False, height=600, pinning=False, theme='light', title=None,…"
      ]
     },
     "metadata": {},
     "output_type": "display_data"
    },
    {
     "data": {
      "text/html": [
       "<div></div>"
      ],
      "text/plain": [
       "<IPython.core.display.HTML object>"
      ]
     },
     "metadata": {},
     "output_type": "display_data"
    },
    {
     "data": {
      "text/plain": [
       "<cad_viewer_widget.widget.CadViewer at 0x7f015910a8c0>"
      ]
     },
     "execution_count": 7,
     "metadata": {},
     "output_type": "execute_result"
    }
   ],
   "source": [
    "from tests.designs import mark1\n",
    "from turbodesigner.cad.casing import CasingCadModel\n",
    "from jupyter_cadquery import show\n",
    "import numpy as np\n",
    "\n",
    "# first_stage = mark1.stages[0].to_export()\n",
    "# stage = mark1.stages[6].to_export()\n",
    "turbomachinery = mark1.to_export()\n",
    "\n",
    "casing_model = CasingCadModel(\n",
    "    thickness_to_inlet_radius=0.25,\n",
    "    transition_to_total_height=0.25\n",
    ")\n",
    "# casing_profile = casing_model.casing_profile(stage, first_stage)\n",
    "casing_profile = casing_model.casing_assembly(turbomachinery)\n",
    "\n",
    "show(casing_profile)"
   ]
  }
 ],
 "metadata": {
  "kernelspec": {
   "display_name": "Python 3",
   "language": "python",
   "name": "python3"
  },
  "language_info": {
   "codemirror_mode": {
    "name": "ipython",
    "version": 3
   },
   "file_extension": ".py",
   "mimetype": "text/x-python",
   "name": "python",
   "nbconvert_exporter": "python",
   "pygments_lexer": "ipython3",
   "version": "3.10.8"
  },
  "orig_nbformat": 4,
  "vscode": {
   "interpreter": {
    "hash": "949777d72b0d2535278d3dc13498b2535136f6dfe0678499012e853ee9abcab1"
   }
  }
 },
 "nbformat": 4,
 "nbformat_minor": 2
}
