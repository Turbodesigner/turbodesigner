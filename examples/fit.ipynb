{
 "cells": [
  {
   "cell_type": "code",
   "execution_count": 3,
   "metadata": {},
   "outputs": [
    {
     "name": "stdout",
     "output_type": "stream",
     "text": [
      "100% ⋮————————————————————————————————————————————————————————————⋮ (2/2)  0.02s\n"
     ]
    },
    {
     "data": {
      "application/vnd.jupyter.widget-view+json": {
       "model_id": "c7c0d542d7df488da3ec053e2c4a2ed4",
       "version_major": 2,
       "version_minor": 0
      },
      "text/plain": [
       "CadViewerWidget(anchor=None, cad_width=800, glass=False, height=600, pinning=False, theme='light', title=None,…"
      ]
     },
     "metadata": {},
     "output_type": "display_data"
    },
    {
     "data": {
      "text/html": [
       "<div></div>"
      ],
      "text/plain": [
       "<IPython.core.display.HTML object>"
      ]
     },
     "metadata": {},
     "output_type": "display_data"
    },
    {
     "data": {
      "text/plain": [
       "<cad_viewer_widget.widget.CadViewer at 0x7f73ca4b7e80>"
      ]
     },
     "execution_count": 3,
     "metadata": {},
     "output_type": "execute_result"
    }
   ],
   "source": [
    "import cadquery as cq\n",
    "from jupyter_cadquery import show\n",
    "from cadquery import exporters\n",
    "\n",
    "assembly = cq.Assembly()\n",
    "\n",
    "height = 10\n",
    "diameter = 20\n",
    "tolerance = 0.2\n",
    "\n",
    "in_profile = (\n",
    "    cq.Workplane(\"XY\")\n",
    "    .circle(30)\n",
    "    .extrude(height)\n",
    "\n",
    "    .faces(\">Z\")\n",
    "    .workplane()\n",
    "    .circle(diameter + tolerance)\n",
    "    .cutThruAll()\n",
    ")\n",
    "\n",
    "out_profile = (\n",
    "    cq.Workplane(\"XY\")\n",
    "    .circle(diameter)\n",
    "    .extrude(height)\n",
    ")\n",
    "assembly.add(in_profile, name=\"in_profile\")\n",
    "assembly.add(out_profile, name=\"out_profile\")\n",
    "exporters.export(in_profile, \"in_profile.stl\")\n",
    "exporters.export(out_profile, \"out_profile.stl\")\n",
    "\n",
    "show(assembly)"
   ]
  }
 ],
 "metadata": {
  "kernelspec": {
   "display_name": "Python 3",
   "language": "python",
   "name": "python3"
  },
  "language_info": {
   "codemirror_mode": {
    "name": "ipython",
    "version": 3
   },
   "file_extension": ".py",
   "mimetype": "text/x-python",
   "name": "python",
   "nbconvert_exporter": "python",
   "pygments_lexer": "ipython3",
   "version": "3.10.8"
  },
  "orig_nbformat": 4,
  "vscode": {
   "interpreter": {
    "hash": "949777d72b0d2535278d3dc13498b2535136f6dfe0678499012e853ee9abcab1"
   }
  }
 },
 "nbformat": 4,
 "nbformat_minor": 2
}
